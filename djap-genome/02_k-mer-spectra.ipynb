{
 "metadata": {
  "name": "",
  "signature": "sha256:992b1493cf93345ab237757fc6ce841674e3bced34d69d35fae510a6f86b51ad"
 },
 "nbformat": 3,
 "nbformat_minor": 0,
 "worksheets": [
  {
   "cells": [
    {
     "cell_type": "markdown",
     "metadata": {},
     "source": [
      "# K-mer spectra"
     ]
    },
    {
     "cell_type": "code",
     "collapsed": false,
     "input": [
      "import gzip, os, sys\n",
      "#import custom functions for displaying tables, bash commands\n",
      "sys.path.append(os.path.abspath(\"/home/damian/\"))\n",
      "from dk_ipython import *\n",
      "from IPython.display import HTML\n",
      "import pandas as pd\n",
      "import seaborn as sns\n",
      "import matplotlib.pyplot as plt\n",
      "import scipy.stats as ss\n",
      "import scipy as sp\n",
      "\n",
      "%matplotlib inline\n",
      "HTML(addToggle())"
     ],
     "language": "python",
     "metadata": {},
     "outputs": [
      {
       "html": [
        "<script>\n",
        "code_show=true;\n",
        "function code_toggle() {\n",
        " if (code_show){\n",
        " $('div.input').hide();\n",
        " } else {\n",
        " $('div.input').show();\n",
        " }\n",
        " code_show = !code_show\n",
        "}\n",
        "\n",
        "$( document ).ready(code_toggle);\n",
        "</script>\n",
        "The raw code for this IPython notebook is by default hidden for easier reading.\n",
        "To toggle on/off the raw code, click <a href=\"javascript:code_toggle()\">here</a>."
       ],
       "metadata": {},
       "output_type": "pyout",
       "prompt_number": 1,
       "text": [
        "<IPython.core.display.HTML at 0x3c305d0>"
       ]
      }
     ],
     "prompt_number": 1
    },
    {
     "cell_type": "code",
     "collapsed": false,
     "input": [
      "def getMetric(path):\n",
      "    histoData = [(int(line.strip().split()[0]), int(line.strip().split()[1])) for line in open(path)]\n",
      "    s = pd.Series([x[1] for x in histoData], index = [x[0] for x in histoData])\n",
      "    lowCov = 0\n",
      "    avgCov = 0\n",
      "    for i, v in enumerate(histoData):\n",
      "        if histoData[i + 1][1] > histoData[i][1]:\n",
      "            lowCov = histoData[i][0]\n",
      "            break\n",
      "            \n",
      "    for i, v in enumerate(histoData[lowCov:]):\n",
      "        if histoData[lowCov + i + 1][1] < histoData[lowCov + i][1]:\n",
      "            avgCov = histoData[lowCov + i][0]\n",
      "            break\n",
      "\n",
      "    k = s * s.index\n",
      "    \n",
      "    #mean read length - k-length + 1 / mean read length to normalize coverage\n",
      "    #assume mean read length is 100 for now. Need to calculate a more accurate mean length.\n",
      "    #100 - 30 + 1 / 100 = 0.71\n",
      "    return {'mincov':lowCov,\\\n",
      "            'peakcov':avgCov,\\\n",
      "            'uniqk':commas(int(s.sum())),\\\n",
      "            'erroruk':commas(int(s[:lowCov].sum())),\\\n",
      "            'realuk':commas(int(s[lowCov:].sum())),\\\n",
      "            'errork':commas(int(k[:lowCov].sum())),\\\n",
      "            'realk':commas(int(k[lowCov:].sum())),\\\n",
      "            'error':float(sum(k[:lowCov])) / sum(k) / 30,\\\n",
      "            'size':commas(int(k[lowCov:].sum() / avgCov * 0.71))}\n",
      "\n",
      "djapData = [(int(line.strip().split()[0]), int(line.strip().split()[1])) for line in open('/home/share/projects/planarian_genome/djap/kmer/djap.kmer.30.histo')]\n",
      "pd.Series([x[1] for x in djapData], index = [x[0] for x in djapData])[:100].plot(figsize=[15,6], ylim=[0,1.5e8])\n"
     ],
     "language": "python",
     "metadata": {},
     "outputs": [
      {
       "metadata": {},
       "output_type": "pyout",
       "prompt_number": 13,
       "text": [
        "<matplotlib.axes.AxesSubplot at 0x574e950>"
       ]
      },
      {
       "metadata": {},
       "output_type": "display_data",
       "png": "[encoded data removed]",
       "text": [
        "<matplotlib.figure.Figure at 0x5888910>"
       ]
      }
     ],
     "prompt_number": 13
    },
    {
     "cell_type": "code",
     "collapsed": false,
     "input": [
      "djapMetric = getMetric('/home/share/projects/planarian_genome/djap/kmer/djap.kmer.30.histo')\n",
      "for k,v in djapMetric.items():\n",
      "    print k + '\\t' + str(v)"
     ],
     "language": "python",
     "metadata": {},
     "outputs": [
      {
       "output_type": "stream",
       "stream": "stdout",
       "text": [
        "realuk\t1,179,027,868\n",
        "uniqk\t2,013,631,403\n",
        "erroruk\t834,603,535\n",
        "mincov\t8\n",
        "error\t0.000891771854555\n",
        "errork\t1,652,824,533\n",
        "peakcov\t15\n",
        "realk\t60,127,720,366\n",
        "size\t2,846,045,430\n"
       ]
      }
     ],
     "prompt_number": 14
    },
    {
     "cell_type": "code",
     "collapsed": false,
     "input": [],
     "language": "python",
     "metadata": {},
     "outputs": []
    }
   ],
   "metadata": {}
  }
 ]
}