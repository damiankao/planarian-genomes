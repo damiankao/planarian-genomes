{
 "metadata": {
  "name": "",
  "signature": "sha256:b3069ab871cc18cf9e4821d5f23b7603abb4f89037d69e0b6c1ca2cf28098d5b"
 },
 "nbformat": 3,
 "nbformat_minor": 0,
 "worksheets": [
  {
   "cells": [
    {
     "cell_type": "markdown",
     "metadata": {},
     "source": [
      "# K-mer spectra"
     ]
    },
    {
     "cell_type": "code",
     "collapsed": false,
     "input": [
      "import gzip, os, sys\n",
      "#import custom functions for displaying tables, bash commands\n",
      "sys.path.append(os.path.abspath(\"/home/damian/\"))\n",
      "from dk_ipython import *\n",
      "from IPython.display import HTML\n",
      "import pandas as pd\n",
      "import seaborn as sns\n",
      "import matplotlib.pyplot as plt\n",
      "import scipy.stats as ss\n",
      "import scipy as sp\n",
      "\n",
      "%matplotlib inline\n",
      "HTML(addToggle())"
     ],
     "language": "python",
     "metadata": {},
     "outputs": [
      {
       "html": [
        "<script>\n",
        "code_show=true;\n",
        "function code_toggle() {\n",
        " if (code_show){\n",
        " $('div.input').hide();\n",
        " } else {\n",
        " $('div.input').show();\n",
        " }\n",
        " code_show = !code_show\n",
        "}\n",
        "\n",
        "$( document ).ready(code_toggle);\n",
        "</script>\n",
        "The raw code for this IPython notebook is by default hidden for easier reading.\n",
        "To toggle on/off the raw code, click <a href=\"javascript:code_toggle()\">here</a>."
       ],
       "metadata": {},
       "output_type": "pyout",
       "prompt_number": 1,
       "text": [
        "<IPython.core.display.HTML at 0x35356d0>"
       ]
      }
     ],
     "prompt_number": 1
    },
    {
     "cell_type": "code",
     "collapsed": false,
     "input": [
      "def getMetric(path):\n",
      "    histoData = [(int(line.strip().split()[0]), int(line.strip().split()[1])) for line in open(path)]\n",
      "    s = pd.Series([x[1] for x in histoData], index = [x[0] for x in histoData])\n",
      "    lowCov = 0\n",
      "    avgCov = 0\n",
      "    for i, v in enumerate(histoData):\n",
      "        if histoData[i + 1][1] > histoData[i][1]:\n",
      "            lowCov = histoData[i][0]\n",
      "            break\n",
      "            \n",
      "    for i, v in enumerate(histoData[lowCov:]):\n",
      "        if histoData[lowCov + i + 1][1] < histoData[lowCov + i][1]:\n",
      "            avgCov = histoData[lowCov + i][0]\n",
      "            break\n",
      "\n",
      "    k = s * s.index\n",
      "    \n",
      "    #k-normalization factor = mean read length - k-length + 1 / mean read length\n",
      "    #assume mean read length is 120 for now. Need to calculate a more accurate mean length.\n",
      "    #120 - 30 + 1 / 120 = ~0.758\n",
      "    \n",
      "    print 'Minimum coverage:', lowCov\n",
      "    print '*k-mers below this coverage are likely to be errors.'\n",
      "    print\n",
      "    print 'Number of unique k-mers below', lowCov, ':', commas(int(s[:lowCov].sum()))\n",
      "    print 'Number of k-mers below', lowCov, ':', commas(int(k[:lowCov].sum()))\n",
      "    print\n",
      "    print 'Peak coverage:', avgCov\n",
      "    print '*indicator of genome coverage given a single peak'\n",
      "    print\n",
      "    print 'Number of unique k-mers above', lowCov, ':', commas(int(s[lowCov:].sum()))\n",
      "    print 'Number of k-mers above', lowCov, ':', commas(int(k[lowCov:].sum()))\n",
      "    print\n",
      "    print 'Estimated genome size based on k-mers above', lowCov, ':', commas(int(k[lowCov:].sum() / avgCov * 0.758))\n",
      "    print '*estimated size = # k-mers above minimum coverage / peak coverage * k-mer coverage normalization factor'\n",
      "    print '*k-mer coverage normalization factor = mean read length - k-size + 1 / mean read length'\n",
      "    \n",
      "djapData = [(int(line.strip().split()[0]), int(line.strip().split()[1])) for line in open('/home/share/projects/planarian_genome/djap/kmer/djap.kmer.30.histo')]\n",
      "pd.Series([x[1] for x in djapData], index = [x[0] for x in djapData])[:100].plot(figsize=[15,6], ylim=[0,0.8e8])"
     ],
     "language": "python",
     "metadata": {},
     "outputs": [
      {
       "metadata": {},
       "output_type": "pyout",
       "prompt_number": 38,
       "text": [
        "<matplotlib.axes.AxesSubplot at 0x8217090>"
       ]
      },
      {
       "metadata": {},
       "output_type": "display_data",
       "png": "[encoded data removed]",
       "text": [
        "<matplotlib.figure.Figure at 0x8217450>"
       ]
      }
     ],
     "prompt_number": 38
    },
    {
     "cell_type": "code",
     "collapsed": false,
     "input": [
      "djapMetric = getMetric('/home/share/projects/planarian_genome/djap/kmer/djap.kmer.30.histo')"
     ],
     "language": "python",
     "metadata": {},
     "outputs": [
      {
       "output_type": "stream",
       "stream": "stdout",
       "text": [
        "Minimum coverage: 8\n",
        "*k-mers below this coverage are likely to be errors.\n",
        "\n",
        "Number of unique k-mers below 8 : 834,603,535\n",
        "Number of k-mers below 8 : 1,652,824,533\n",
        "\n",
        "Peak coverage: 15\n",
        "*indicator of genome coverage given a single peak\n",
        "\n",
        "Number of unique k-mers above 8 : 1,179,027,868\n",
        "Number of k-mers above 8 : 60,127,720,366\n",
        "\n",
        "Estimated genome size based on k-mers above 8 : 3,038,454,135\n",
        "*estimated size = # k-mers above minimum coverage / peak coverage * k-mer coverage normalization factor\n",
        "*k-mer coverage normalization factor = mean read length - k-size + 1 / mean read length\n"
       ]
      }
     ],
     "prompt_number": 39
    }
   ],
   "metadata": {}
  }
 ]
}