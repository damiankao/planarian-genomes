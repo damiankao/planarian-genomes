{
 "metadata": {
  "name": "",
  "signature": "sha256:14ed7f129d8bcefe0219820ef991ef6b1c1d1cd3f531ea78543bf2b95d3bca8e"
 },
 "nbformat": 3,
 "nbformat_minor": 0,
 "worksheets": [
  {
   "cells": [
    {
     "cell_type": "markdown",
     "metadata": {},
     "source": [
      "# Process data from Edinburgh"
     ]
    },
    {
     "cell_type": "code",
     "collapsed": false,
     "input": [
      "import gzip, os, sys\n",
      "#import custom functions for displaying tables, bash commands\n",
      "sys.path.append(os.path.abspath(\"/home/damian/\"))\n",
      "from dk_ipython import *\n",
      "from IPython.display import HTML\n",
      "import pandas as pd\n",
      "import matplotlib.pyplot as plt\n",
      "import seaborn as sns\n",
      "%matplotlib inline\n",
      "HTML(addToggle())"
     ],
     "language": "python",
     "metadata": {},
     "outputs": [
      {
       "html": [
        "<script>\n",
        "code_show=true;\n",
        "function code_toggle() {\n",
        " if (code_show){\n",
        " $('div.input').hide();\n",
        " } else {\n",
        " $('div.input').show();\n",
        " }\n",
        " code_show = !code_show\n",
        "}\n",
        "\n",
        "$( document ).ready(code_toggle);\n",
        "</script>\n",
        "The raw code for this IPython notebook is by default hidden for easier reading.\n",
        "To toggle on/off the raw code, click <a href=\"javascript:code_toggle()\">here</a>."
       ],
       "metadata": {},
       "output_type": "pyout",
       "prompt_number": 2,
       "text": [
        "<IPython.core.display.HTML at 0x4febc10>"
       ]
      }
     ],
     "prompt_number": 2
    },
    {
     "cell_type": "code",
     "collapsed": false,
     "input": [
      "HTML(textarea('rename raw files with symbolic link','''ln -s ./2014119_Aboobaker_Aziz/raw_reads/JaponicagDNA2/140926_D00261_0176_BC5N03ANXX_4_IL-TP-002_1.sanfastq.gz djap.libB.01.pe.01.fastq.gz\n",
      "ln -s ./2014119_Aboobaker_Aziz/raw_reads/JaponicagDNA2/140926_D00261_0176_BC5N03ANXX_4_IL-TP-002_2.sanfastq.gz djap.libB.01.pe.02.fastq.gz\n",
      "ln -s ./2014119_Aboobaker_Aziz/raw_reads/JaponicagDNA2/140926_D00261_0176_BC5N03ANXX_5_IL-TP-002_2.sanfastq.gz djap.libB.02.pe.02.fastq.gz\n",
      "ln -s ./2014119_Aboobaker_Aziz/raw_reads/JaponicagDNA2/140926_D00261_0176_BC5N03ANXX_5_IL-TP-002_1.sanfastq.gz djap.libB.02.pe.01.fastq.gz\n",
      "ln -s ./2014119_Aboobaker_Aziz/raw_reads/JaponicagDNA1/140926_D00261_0176_BC5N03ANXX_4_IL-TP-010_1.sanfastq.gz djap.libA.01.pe.01.fastq.gz\n",
      "ln -s ./2014119_Aboobaker_Aziz/raw_reads/JaponicagDNA1/140926_D00261_0176_BC5N03ANXX_5_IL-TP-010_2.sanfastq.gz djap.libA.02.pe.02.fastq.gz\n",
      "ln -s ./2014119_Aboobaker_Aziz/raw_reads/JaponicagDNA1/140926_D00261_0176_BC5N03ANXX_5_IL-TP-010_1.sanfastq.gz djap.libA.02.pe.01.fastq.gz\n",
      "ln -s ./2014119_Aboobaker_Aziz/raw_reads/JaponicagDNA1/140926_D00261_0176_BC5N03ANXX_4_IL-TP-010_2.sanfastq.gz djap.libA.01.pe.02.fastq.gz'''))"
     ],
     "language": "python",
     "metadata": {},
     "outputs": [
      {
       "html": [
        "<b>rename raw files with symbolic link</b>:<br>\n",
        "<textarea style=\"width: 1000px; height:200px\">\n",
        "ln -s ./2014119_Aboobaker_Aziz/raw_reads/JaponicagDNA2/140926_D00261_0176_BC5N03ANXX_4_IL-TP-002_1.sanfastq.gz djap.libB.01.pe.01.fastq.gz\n",
        "ln -s ./2014119_Aboobaker_Aziz/raw_reads/JaponicagDNA2/140926_D00261_0176_BC5N03ANXX_4_IL-TP-002_2.sanfastq.gz djap.libB.01.pe.02.fastq.gz\n",
        "ln -s ./2014119_Aboobaker_Aziz/raw_reads/JaponicagDNA2/140926_D00261_0176_BC5N03ANXX_5_IL-TP-002_2.sanfastq.gz djap.libB.02.pe.02.fastq.gz\n",
        "ln -s ./2014119_Aboobaker_Aziz/raw_reads/JaponicagDNA2/140926_D00261_0176_BC5N03ANXX_5_IL-TP-002_1.sanfastq.gz djap.libB.02.pe.01.fastq.gz\n",
        "ln -s ./2014119_Aboobaker_Aziz/raw_reads/JaponicagDNA1/140926_D00261_0176_BC5N03ANXX_4_IL-TP-010_1.sanfastq.gz djap.libA.01.pe.01.fastq.gz\n",
        "ln -s ./2014119_Aboobaker_Aziz/raw_reads/JaponicagDNA1/140926_D00261_0176_BC5N03ANXX_5_IL-TP-010_2.sanfastq.gz djap.libA.02.pe.02.fastq.gz\n",
        "ln -s ./2014119_Aboobaker_Aziz/raw_reads/JaponicagDNA1/140926_D00261_0176_BC5N03ANXX_5_IL-TP-010_1.sanfastq.gz djap.libA.02.pe.01.fastq.gz\n",
        "ln -s ./2014119_Aboobaker_Aziz/raw_reads/JaponicagDNA1/140926_D00261_0176_BC5N03ANXX_4_IL-TP-010_2.sanfastq.gz djap.libA.01.pe.02.fastq.gz\n",
        "</textarea>"
       ],
       "metadata": {},
       "output_type": "pyout",
       "prompt_number": 3,
       "text": [
        "<IPython.core.display.HTML at 0x2970210>"
       ]
      }
     ],
     "prompt_number": 3
    },
    {
     "cell_type": "markdown",
     "metadata": {},
     "source": [
      "### FastQC\n",
      "\n",
      "FastQC was ran on raw files\n",
      "\n",
      "    fastqc-mem -t 8 --nogroup -o fastqc files.fastq.gz"
     ]
    },
    {
     "cell_type": "code",
     "collapsed": false,
     "input": [],
     "language": "python",
     "metadata": {},
     "outputs": []
    },
    {
     "cell_type": "markdown",
     "metadata": {},
     "source": [
      "### Read trimming\n",
      "\n"
     ]
    },
    {
     "cell_type": "code",
     "collapsed": false,
     "input": [
      "fs = [x for x in os.listdir('/home/share/ngsData/djap/') if x.split('.')[-1] == 'gz']\n",
      "\n",
      "trimCmdPEA = 'java -jar /home/share/software/Trimmomatic-0.32/trimmomatic-0.32.jar PE -threads 6 '\n",
      "trimCmdB = ' LEADING:__QUAL__ TRAILING:__QUAL__ MINLEN:100 ILLUMINACLIP:/home/share/software/Trimmomatic-0.32/adapters/adapters.fa:2:30:12:1:false TOPHRED33'\n",
      "trimCmds = ''\n",
      "inPrefix = '/home/share/ngsData/djap/'\n",
      "outPrefix = '/home/share/projects/planarian_genome/djap/trim/'\n",
      "\n",
      "\n",
      "for lib in list(set(['.'.join(f.split('.')[:-3]) for f in fs])):\n",
      "    a = lib + '.01'\n",
      "    b = lib + '.02'\n",
      "    phred = detectPhred(inPrefix + a + '.fastq.gz', 5000)\n",
      "    \n",
      "    if phred == 'Sanger':\n",
      "        phred = '-phred33 '\n",
      "    else:\n",
      "        phred = '-phred64 '\n",
      "        \n",
      "    #paired end\n",
      "    trimCmds += trimCmdPEA + phred + inPrefix + a + '.fastq.gz ' + inPrefix + b + '.fastq.gz ' + \\\n",
      "    outPrefix + a + '.paired.trimmed.fastq.gz ' + outPrefix + a + '.unpaired.trimmed.fastq.gz ' + \\\n",
      "    outPrefix + b + '.paired.trimmed.fastq.gz ' + outPrefix + b + '.unpaired.trimmed.fastq.gz' + trimCmdB + '\\n'\n",
      "qTrimCmds = trimCmds.replace('__QUAL__','30')\n",
      "HTML(textarea('Trimmomatic bash commands at quality 30 filter',qTrimCmds))"
     ],
     "language": "python",
     "metadata": {},
     "outputs": [
      {
       "html": [
        "<b>Trimmomatic bash commands at quality 30 filter</b>:<br>\n",
        "<textarea style=\"width: 1000px; height:200px\">\n",
        "java -jar /home/share/software/Trimmomatic-0.32/trimmomatic-0.32.jar PE -threads 6 -phred33 /home/share/ngsData/djap/djap.libA.01.pe.01.fastq.gz /home/share/ngsData/djap/djap.libA.01.pe.02.fastq.gz /home/share/projects/planarian_genome/djap/trim/djap.libA.01.pe.01.paired.trimmed.fastq.gz /home/share/projects/planarian_genome/djap/trim/djap.libA.01.pe.01.unpaired.trimmed.fastq.gz /home/share/projects/planarian_genome/djap/trim/djap.libA.01.pe.02.paired.trimmed.fastq.gz /home/share/projects/planarian_genome/djap/trim/djap.libA.01.pe.02.unpaired.trimmed.fastq.gz LEADING:30 TRAILING:30 MINLEN:100 ILLUMINACLIP:/home/share/software/Trimmomatic-0.32/adapters/adapters.fa:2:30:12:1:false TOPHRED33\n",
        "java -jar /home/share/software/Trimmomatic-0.32/trimmomatic-0.32.jar PE -threads 6 -phred33 /home/share/ngsData/djap/djap.libB.02.pe.01.fastq.gz /home/share/ngsData/djap/djap.libB.02.pe.02.fastq.gz /home/share/projects/planarian_genome/djap/trim/djap.libB.02.pe.01.paired.trimmed.fastq.gz /home/share/projects/planarian_genome/djap/trim/djap.libB.02.pe.01.unpaired.trimmed.fastq.gz /home/share/projects/planarian_genome/djap/trim/djap.libB.02.pe.02.paired.trimmed.fastq.gz /home/share/projects/planarian_genome/djap/trim/djap.libB.02.pe.02.unpaired.trimmed.fastq.gz LEADING:30 TRAILING:30 MINLEN:100 ILLUMINACLIP:/home/share/software/Trimmomatic-0.32/adapters/adapters.fa:2:30:12:1:false TOPHRED33\n",
        "java -jar /home/share/software/Trimmomatic-0.32/trimmomatic-0.32.jar PE -threads 6 -phred33 /home/share/ngsData/djap/djap.libB.01.pe.01.fastq.gz /home/share/ngsData/djap/djap.libB.01.pe.02.fastq.gz /home/share/projects/planarian_genome/djap/trim/djap.libB.01.pe.01.paired.trimmed.fastq.gz /home/share/projects/planarian_genome/djap/trim/djap.libB.01.pe.01.unpaired.trimmed.fastq.gz /home/share/projects/planarian_genome/djap/trim/djap.libB.01.pe.02.paired.trimmed.fastq.gz /home/share/projects/planarian_genome/djap/trim/djap.libB.01.pe.02.unpaired.trimmed.fastq.gz LEADING:30 TRAILING:30 MINLEN:100 ILLUMINACLIP:/home/share/software/Trimmomatic-0.32/adapters/adapters.fa:2:30:12:1:false TOPHRED33\n",
        "java -jar /home/share/software/Trimmomatic-0.32/trimmomatic-0.32.jar PE -threads 6 -phred33 /home/share/ngsData/djap/djap.libA.02.pe.01.fastq.gz /home/share/ngsData/djap/djap.libA.02.pe.02.fastq.gz /home/share/projects/planarian_genome/djap/trim/djap.libA.02.pe.01.paired.trimmed.fastq.gz /home/share/projects/planarian_genome/djap/trim/djap.libA.02.pe.01.unpaired.trimmed.fastq.gz /home/share/projects/planarian_genome/djap/trim/djap.libA.02.pe.02.paired.trimmed.fastq.gz /home/share/projects/planarian_genome/djap/trim/djap.libA.02.pe.02.unpaired.trimmed.fastq.gz LEADING:30 TRAILING:30 MINLEN:100 ILLUMINACLIP:/home/share/software/Trimmomatic-0.32/adapters/adapters.fa:2:30:12:1:false TOPHRED33\n",
        "\n",
        "</textarea>"
       ],
       "metadata": {},
       "output_type": "pyout",
       "prompt_number": 5,
       "text": [
        "<IPython.core.display.HTML at 0x281f810>"
       ]
      }
     ],
     "prompt_number": 5
    },
    {
     "cell_type": "markdown",
     "metadata": {},
     "source": [
      "### Musket error correction"
     ]
    },
    {
     "cell_type": "code",
     "collapsed": false,
     "input": [
      "prefix = '/home/share/projects/planarian_genome/djap/trim/'\n",
      "fs = [f for f in os.listdir(prefix) if f.split('.')[-1] == 'gz' and f.split('.')[5] == 'paired']\n",
      "fs.sort()\n",
      "\n",
      "cmds = 'musket -inorder -omulti musket.out -p 8 ' + ' '.join(['/home/share/projects/planarian_genome/djap/trim/' + f for f in fs])\n",
      "HTML(textarea('Musket commands',cmds))"
     ],
     "language": "python",
     "metadata": {},
     "outputs": [
      {
       "html": [
        "<b>Musket commands</b>:<br>\n",
        "<textarea style=\"width: 1000px; height:200px\">\n",
        "musket -inorder -omulti musket.out -p 8 /home/share/projects/planarian_genome/djap/trim/djap.libA.01.pe.01.paired.trimmed.fastq.gz /home/share/projects/planarian_genome/djap/trim/djap.libA.01.pe.02.paired.trimmed.fastq.gz /home/share/projects/planarian_genome/djap/trim/djap.libA.02.pe.01.paired.trimmed.fastq.gz /home/share/projects/planarian_genome/djap/trim/djap.libA.02.pe.02.paired.trimmed.fastq.gz /home/share/projects/planarian_genome/djap/trim/djap.libB.01.pe.01.paired.trimmed.fastq.gz /home/share/projects/planarian_genome/djap/trim/djap.libB.01.pe.02.paired.trimmed.fastq.gz /home/share/projects/planarian_genome/djap/trim/djap.libB.02.pe.01.paired.trimmed.fastq.gz /home/share/projects/planarian_genome/djap/trim/djap.libB.02.pe.02.paired.trimmed.fastq.gz\n",
        "</textarea>"
       ],
       "metadata": {},
       "output_type": "pyout",
       "prompt_number": 9,
       "text": [
        "<IPython.core.display.HTML at 0x5050810>"
       ]
      }
     ],
     "prompt_number": 9
    },
    {
     "cell_type": "code",
     "collapsed": false,
     "input": [
      "cmds = ''\n",
      "i = 0\n",
      "for f in fs:\n",
      "    cmds += 'mv musket.out.' + str(i) + ' ' + '_'.join(f.split('.')[:-4]) + '.paired.trimmed.musket.fastq\\n'\n",
      "    i += 1\n",
      "\n",
      "HTML(textarea('Rename musket output',cmds))"
     ],
     "language": "python",
     "metadata": {},
     "outputs": [
      {
       "html": [
        "<b>Rename musket output</b>:<br>\n",
        "<textarea style=\"width: 1000px; height:200px\">\n",
        "mv musket.out.0 djap_libA_01_pe_01.paired.trimmed.musket.fastq\n",
        "mv musket.out.1 djap_libA_01_pe_02.paired.trimmed.musket.fastq\n",
        "mv musket.out.2 djap_libA_02_pe_01.paired.trimmed.musket.fastq\n",
        "mv musket.out.3 djap_libA_02_pe_02.paired.trimmed.musket.fastq\n",
        "mv musket.out.4 djap_libB_01_pe_01.paired.trimmed.musket.fastq\n",
        "mv musket.out.5 djap_libB_01_pe_02.paired.trimmed.musket.fastq\n",
        "mv musket.out.6 djap_libB_02_pe_01.paired.trimmed.musket.fastq\n",
        "mv musket.out.7 djap_libB_02_pe_02.paired.trimmed.musket.fastq\n",
        "\n",
        "</textarea>"
       ],
       "metadata": {},
       "output_type": "pyout",
       "prompt_number": 24,
       "text": [
        "<IPython.core.display.HTML at 0x50079d0>"
       ]
      }
     ],
     "prompt_number": 24
    },
    {
     "cell_type": "code",
     "collapsed": false,
     "input": [],
     "language": "python",
     "metadata": {},
     "outputs": []
    }
   ],
   "metadata": {}
  }
 ]
}